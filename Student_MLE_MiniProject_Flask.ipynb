{
  "cells": [
    {
      "cell_type": "markdown",
      "metadata": {
        "id": "view-in-github",
        "colab_type": "text"
      },
      "source": [
        "<a href=\"https://colab.research.google.com/github/turgutcem/mec2-projects/blob/main/Student_MLE_MiniProject_Flask.ipynb\" target=\"_parent\"><img src=\"https://colab.research.google.com/assets/colab-badge.svg\" alt=\"Open In Colab\"/></a>"
      ]
    },
    {
      "cell_type": "markdown",
      "source": [
        "# Mini Project: Flask for ML Tasks\n",
        "\n",
        "Flask is a micro web framework for Python that simplifies the process of building web applications. It's designed to be lightweight, flexible, and easy to use, making it a popular choice for developing web applications, APIs, and microservices. Flask doesn't impose a lot of constraints on how you structure your application, giving you the freedom to design your application as needed.\n",
        "\n",
        "Here's how Flask works and how it can be used for machine learning engineering:\n",
        "\n",
        "**1. Web Application Basics:**\n",
        "Flask allows you to define routes (URLs) and associate them with Python functions. When a user visits a specific URL, the associated function is executed, and you can return HTML, JSON, images, or any other type of data as a response. This makes it great for building dynamic and interactive web applications.\n",
        "\n",
        "**2. Integration with Machine Learning:**\n",
        "Flask can be incredibly useful in the context of machine learning engineering for a variety of purposes:\n",
        "\n",
        "- **Model Deployment:** Flask can be used to deploy machine learning models as APIs. Once your model is trained, you can create a Flask app that exposes the model through a web API. This enables other applications, platforms, or services to easily interact with and use your trained models for making predictions.\n",
        "\n",
        "- **Data Visualization:** You can use Flask to create interactive visualizations of data and model predictions. This is particularly useful when you want to provide users with a graphical representation of your machine learning insights.\n",
        "\n",
        "- **Custom Preprocessing:** If your machine learning model requires preprocessing steps before making predictions, Flask can be used to create an interface where users can input data, and your app preprocesses the data and feeds it to the model for prediction.\n",
        "\n",
        "- **User Interface:** Flask can help you create user-friendly interfaces for your machine learning models, allowing non-technical users to interact with and utilize your models without writing code.\n",
        "\n",
        "- **A/B Testing and Experimentation:** Flask apps can be used to deploy different versions of your models for A/B testing or experimentation, allowing you to compare the performance of different models and make data-driven decisions.\n",
        "\n",
        "**3. Real-world Example:**\n",
        "Imagine you've trained a sentiment analysis model, and you want to allow users to input text and get predictions about the sentiment of the text. You can create a Flask app that provides a simple web interface where users can type in their text, and the app sends the text to your sentiment analysis model and displays the result."
      ],
      "metadata": {
        "id": "yPbWViOfnJFg"
      }
    },
    {
      "cell_type": "markdown",
      "source": [
        "A typical Flask application follows a specific structure that helps organize your code, templates, static files, and other resources. This structure is designed to keep your codebase organized and maintainable as your application grows. The layout typically consists of several key components:\n",
        "\n",
        "1. **Main Application File (`app.py` or similar):**\n",
        "   This is the entry point of your Flask application. It contains the core configuration, route definitions, and application setup. You define the routes (URLs) your application will respond to, and associate each route with a Python function that handles the logic for that route.\n",
        "\n",
        "2. **Templates Folder (`templates/`):**\n",
        "   This folder contains your HTML templates. Flask uses a templating engine (Jinja2 by default) to generate dynamic HTML content. Templates allow you to separate the presentation (HTML) from the logic (Python) in your application, making your code more organized and maintainable. Templates can also include placeholders for dynamic data that Flask fills in when rendering the template.\n",
        "\n",
        "3. **Static Folder (`static/`):**\n",
        "   The `static` folder holds static assets like CSS files, JavaScript files, images, fonts, and other resources that are directly served to the user's browser. These assets are typically used to style and enhance the appearance of your web application. By separating static assets from dynamic content, you can optimize the performance of your application.\n",
        "\n",
        "4. **Other Application Files and Modules:**\n",
        "   Depending on the complexity of your application, you might create additional modules or packages to handle different aspects of your application, such as database interactions, machine learning model deployment, authentication, and more. These modules help keep your codebase modular and maintainable.\n",
        "\n",
        "Here's a simplified example of the structure of a Flask application:\n",
        "\n",
        "```\n",
        "my_flask_app/\n",
        "├── app.py\n",
        "├── templates/\n",
        "│   ├── index.html\n",
        "│   ├── result.html\n",
        "├── static/\n",
        "│   ├── styles.css\n",
        "│   ├── script.js\n",
        "└── other_modules/\n",
        "    ├── database.py\n",
        "    ├── ml_model.py\n",
        "```\n",
        "\n",
        "In this example:\n",
        "\n",
        "- `app.py` is the main application file where you define routes, configure the app, and handle requests.\n",
        "- The `templates` folder contains HTML templates that define the structure of your web pages.\n",
        "- The `static` folder holds static assets like CSS and JavaScript files.\n",
        "- The `other_modules` folder might contain additional modules or packages for handling specific tasks, like interacting with a database (`database.py`) or deploying a machine learning model (`ml_model.py`).\n",
        "\n",
        "The separation of static files and templates helps you maintain clean and organized code. Static assets are served directly to users, while templates are used to dynamically generate HTML pages. This structure facilitates collaboration among team members and makes it easier to understand, maintain, and extend your Flask application."
      ],
      "metadata": {
        "id": "yHTfSly5qyjK"
      }
    },
    {
      "cell_type": "markdown",
      "source": [
        "In this mini-project you'll be introduced to Flask by developing an application where your render a bar plot based on user-input data through an API. Note, colab is not a natural place for API development. Colab is mainly used here to be consistent with other mini-projects.\n",
        "\n",
        "As such, we'll need to leverage a tool called [ngrok](https://ngrok.com/). Ngrok is a tool that allows you to create secure tunnels from a public endpoint to a locally running web service or application. It enables you to expose your local server to the internet, making it accessible to others even if it's running on your own computer behind firewalls or NAT (Network Address Translation) devices. In this mini-project, we'll use ngrok to expose your colab instance to the wider internet. Again, you'd never use something like this for production.\n",
        "\n",
        "Go ahead and sign up for an ngrok account [here](https://ngrok.com/). It's free and useful for a wide variety of tasks."
      ],
      "metadata": {
        "id": "ckZ-l9RTr_Ef"
      }
    },
    {
      "cell_type": "code",
      "execution_count": 18,
      "metadata": {
        "id": "Bc5p2nJfsxer",
        "outputId": "fb6ad554-7574-4f6c-808a-480f644ef494",
        "colab": {
          "base_uri": "https://localhost:8080/"
        }
      },
      "outputs": [
        {
          "output_type": "stream",
          "name": "stdout",
          "text": [
            "Requirement already satisfied: pyngrok in /usr/local/lib/python3.10/dist-packages (7.2.0)\n",
            "Requirement already satisfied: PyYAML>=5.1 in /usr/local/lib/python3.10/dist-packages (from pyngrok) (6.0.2)\n",
            "Requirement already satisfied: flask in /usr/local/lib/python3.10/dist-packages (2.2.5)\n",
            "Requirement already satisfied: Werkzeug>=2.2.2 in /usr/local/lib/python3.10/dist-packages (from flask) (3.0.4)\n",
            "Requirement already satisfied: Jinja2>=3.0 in /usr/local/lib/python3.10/dist-packages (from flask) (3.1.4)\n",
            "Requirement already satisfied: itsdangerous>=2.0 in /usr/local/lib/python3.10/dist-packages (from flask) (2.2.0)\n",
            "Requirement already satisfied: click>=8.0 in /usr/local/lib/python3.10/dist-packages (from flask) (8.1.7)\n",
            "Requirement already satisfied: MarkupSafe>=2.0 in /usr/local/lib/python3.10/dist-packages (from Jinja2>=3.0->flask) (3.0.2)\n"
          ]
        }
      ],
      "source": [
        "!pip install pyngrok\n",
        "!pip install flask"
      ]
    },
    {
      "cell_type": "markdown",
      "source": [
        "Execute the cell below to authenticate to ngrok. Paste your authentication token after copying it from [https://dashboard.ngrok.com/auth](https://dashboard.ngrok.com/auth). This assumes you've already created an ngrok account.  "
      ],
      "metadata": {
        "id": "harGkq13JK9j"
      }
    },
    {
      "cell_type": "code",
      "execution_count": 19,
      "metadata": {
        "id": "t_CERy7auqz3",
        "outputId": "7d5e9d73-9ead-46f3-e281-0c752b99e0df",
        "colab": {
          "base_uri": "https://localhost:8080/"
        }
      },
      "outputs": [
        {
          "name": "stdout",
          "output_type": "stream",
          "text": [
            "Enter your authtoken, which can be copied from https://dashboard.ngrok.com/auth\n",
            "··········\n"
          ]
        }
      ],
      "source": [
        "import getpass\n",
        "from pyngrok import ngrok, conf\n",
        "\n",
        "print(\"Enter your authtoken, which can be copied from https://dashboard.ngrok.com/auth\")\n",
        "conf.get_default().auth_token = getpass.getpass()"
      ]
    },
    {
      "cell_type": "markdown",
      "source": [
        "Time to create our Flask application. Here are your tasks:\n",
        "\n",
        "1. In your colab notebook create a new folder named `static`. In the folder create a file called `styles.css` and populate it with the following code:\n",
        "```css\n",
        ".chart-container {\n",
        "    width: 80%;\n",
        "    margin: 20px auto;\n",
        "}\n",
        "```\n",
        "This creates parameters for the bar chart we'll be creating. Note, the full directory of the file should be `/content/static/styles.css`.\n",
        "2. Create another folder named `templates`. Create a file called `index.html` and populate it with the following html code:\n",
        "```html\n",
        "<!DOCTYPE html>\n",
        "<html>\n",
        "<head>\n",
        "    <title>Data Visualization with Flask</title>\n",
        "    <link rel=\"stylesheet\" href=\"{{ url_for('static', filename='styles.css') }}\">\n",
        "</head>\n",
        "<body>\n",
        "    <h1>Data Visualization with Flask</h1>\n",
        "    <form method=\"POST\" action=\"/\">\n",
        "        <div>\n",
        "            <label for=\"categories\">Categories (comma-separated):</label>\n",
        "            <input type=\"text\" name=\"categories\" required>\n",
        "        </div>\n",
        "        <div>\n",
        "            <label for=\"values\">Values (comma-separated):</label>\n",
        "            <input type=\"text\" name=\"values\" required>\n",
        "        </div>\n",
        "        <button type=\"submit\">Generate Bar Chart</button>\n",
        "    </form>\n",
        "    <div class=\"chart-container\">\n",
        "        {% if chart_url %}\n",
        "            <img src=\"data:image/png;base64,{{ chart_url }}\" alt=\"Bar Chart\">\n",
        "        {% endif %}\n",
        "    </div>\n",
        "</body>\n",
        "</html>\n",
        "```\n",
        "Html is a pretty intuitive language to understand. Go through each line and make sure you understand what's happening. An extremely useful skill for an engineer is to be able to *understand* any kind of code, even if the engineer doesn't fully know how to write in the language."
      ],
      "metadata": {
        "id": "N3tXQyHOKORk"
      }
    },
    {
      "cell_type": "markdown",
      "source": [
        "1. Write a function called `generate_bar_chart` that takes a list of category names and respective values and generates a bar chart using [plt.bar](https://matplotlib.org/stable/api/_as_gen/matplotlib.pyplot.bar.html). In the function, return your barplot as a UTF-8 encoded string. It may be useful to create a BytesIO object using [io.BytesIO](https://docs.python.org/3/library/io.html#io.BytesIO) to store the barplot and then [base64.b64encode](https://docs.python.org/3/library/base64.html#base64.b64encode) to create the encoding.\n",
        "2. Now, you'll be filling in the `index` function that serves as the landing page for our application. If you're not too familiar with how HTTP works, read this quick primer [here](https://jaimelightfoot.com/blog/how-http-works/). From the form defined in `index.html`, extract the input for the `categories` field and store it in a list. Also, extract the input for the `values` field and store it in a list as well.\n",
        "3. Pass the two lists from the previous step to your function `generate_bar_chart`.\n",
        "4. The output of `generate_bar_chart` in the index function should then be passed to Flask's [render_template](https://flask.palletsprojects.com/en/2.3.x/api/#flask.render_template) and returned by the function.\n",
        "5. Execute the cell below with your code and click on the link output by \"ngrok tunnel\". This is the application landing page. See if everything works.\n",
        "6. Have fun with the application built here. See if you can extend it in some way. Make sure you understand how the python code interacts with the html template.\n",
        "\n",
        "**If you rerun the cell below and get a port issue, go ahead and restart the colab runtime environment and try again.**"
      ],
      "metadata": {
        "id": "GC7RCUTzMOVs"
      }
    },
    {
      "cell_type": "code",
      "source": [
        "from flask import Flask, render_template, request\n",
        "import threading\n",
        "import matplotlib.pyplot as plt\n",
        "import io\n",
        "import os\n",
        "import base64\n",
        "\n",
        "os.environ[\"FLASK_DEBUG\"] = \"development\"\n",
        "\n",
        "app = Flask(__name__)\n",
        "port = 5000\n",
        "\n",
        "# Open a ngrok tunnel to the HTTP server\n",
        "public_url = ngrok.connect(port).public_url\n",
        "print(\" * ngrok tunnel \\\"{}\\\" -> \\\"http://127.0.0.1:{}\\\"\".format(public_url, port))\n",
        "\n",
        "# Update any base URLs to use the public ngrok URL\n",
        "app.config[\"BASE_URL\"] = public_url\n",
        "\n",
        "def generate_bar_chart(categories, values):\n",
        "    # Write code here for a fuction that takes a list of category names and\n",
        "    # respective values and generates a bar chart using plt.bar. Return your\n",
        "    # barplot as a UTF-8 encoded string.\n",
        "    plt.figure(figsize=(10, 5))\n",
        "    plt.bar(categories, values)\n",
        "    plt.xlabel('Categories')\n",
        "    plt.ylabel('Values')\n",
        "    plt.title('Bar Chart')\n",
        "\n",
        "    buf=io.BytesIO()\n",
        "    plt.savefig(buf, format='png')\n",
        "    plt.close()\n",
        "    buf.seek(0)\n",
        "\n",
        "    img_base64 = base64.b64encode(buf.getvalue()).decode('utf-8')\n",
        "    return img_base64\n",
        "@app.route('/', methods=['GET', 'POST'])\n",
        "def index():\n",
        "    chart_url = None\n",
        "\n",
        "    if request.method == 'POST':\n",
        "        # Extract categories from the request form and convert the string to a\n",
        "        # list.\n",
        "        categories = request.form['categories'].split(',')\n",
        "        # Extract values from the request form and convert the input string to a\n",
        "        # list of integers.\n",
        "        values = list(map(int, request.form['values'].split(',')))\n",
        "        # Pass your categories and values to the generate_bar_chart function.\n",
        "        chart_url = generate_bar_chart(categories, values)\n",
        "\n",
        "    # Return a render_template function, passing your bar plot as input.\n",
        "    return render_template('index.html', chart_url=chart_url)\n",
        "if __name__ == '__main__':\n",
        "    # Start the Flask server in a new thread\n",
        "  threading.Thread(target=app.run, kwargs={\"use_reloader\": False}).start()"
      ],
      "metadata": {
        "id": "TvtkyveVy1No",
        "outputId": "114e0dff-d5c7-4e5f-8712-99775d8e9eda",
        "colab": {
          "base_uri": "https://localhost:8080/"
        }
      },
      "execution_count": 23,
      "outputs": [
        {
          "output_type": "stream",
          "name": "stdout",
          "text": [
            " * ngrok tunnel \"https://ea55-34-81-101-47.ngrok-free.app\" -> \"http://127.0.0.1:5000\"\n",
            " * Serving Flask app '__main__'\n",
            " * Debug mode: on\n"
          ]
        }
      ]
    },
    {
      "cell_type": "markdown",
      "source": [
        "![image.png](data:image/png;base64,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)"
      ],
      "metadata": {
        "id": "Y_lubMZGpRjz"
      }
    }
  ],
  "metadata": {
    "colab": {
      "provenance": [],
      "include_colab_link": true
    },
    "kernelspec": {
      "display_name": "Python 3",
      "name": "python3"
    },
    "language_info": {
      "name": "python"
    }
  },
  "nbformat": 4,
  "nbformat_minor": 0
}